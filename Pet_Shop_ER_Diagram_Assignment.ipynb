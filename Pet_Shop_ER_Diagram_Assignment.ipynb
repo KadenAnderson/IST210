{
  "nbformat": 4,
  "nbformat_minor": 0,
  "metadata": {
    "colab": {
      "name": "Pet Shop ER Diagram Assignment.ipynb",
      "provenance": [],
      "authorship_tag": "ABX9TyPO9QhtcCPjIOsg61jLZBaX",
      "include_colab_link": true
    },
    "kernelspec": {
      "name": "python3",
      "display_name": "Python 3"
    }
  },
  "cells": [
    {
      "cell_type": "markdown",
      "metadata": {
        "id": "view-in-github",
        "colab_type": "text"
      },
      "source": [
        "<a href=\"https://colab.research.google.com/github/KadenAnderson/IST210/blob/master/Pet_Shop_ER_Diagram_Assignment.ipynb\" target=\"_parent\"><img src=\"https://colab.research.google.com/assets/colab-badge.svg\" alt=\"Open In Colab\"/></a>"
      ]
    },
    {
      "cell_type": "markdown",
      "metadata": {
        "id": "ou0e8ygmAyH7"
      },
      "source": [
        "![diagram](https://raw.githubusercontent.com/KadenAnderson/IST210/master/Images/er%20diagram%20pet%20shop.png)"
      ]
    },
    {
      "cell_type": "markdown",
      "metadata": {
        "id": "QWAGghA9BICz"
      },
      "source": [
        "In my pet shop ER diagram, I have six entities, Transactions involving pets, customer, animal, enclosure, food, and transactions involving food.  I connected transactions involving pets to customer because the customer completes the transaction for the pets and the foreign key in transactions involving pets connects the two entities.  Customer and animal are connected by the two primary keys because the customer buys the animal.  Enclosure is connected to animal by the primary key enclosureNumber and the foreign key location because it is where the animal is kept.  Food is connected to animal by the type of animal and foreign key animal because the types of different animals eat different types of food.  Food is connected to transactions involving food by the primary key in food and the foreign key in transactions involving food because the food is purchased through a transaction."
      ]
    }
  ]
}