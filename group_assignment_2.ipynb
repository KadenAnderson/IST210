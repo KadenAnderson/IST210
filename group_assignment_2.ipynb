{
  "nbformat": 4,
  "nbformat_minor": 0,
  "metadata": {
    "colab": {
      "name": "group assignment 2.ipynb",
      "provenance": [],
      "include_colab_link": true
    },
    "kernelspec": {
      "name": "python3",
      "display_name": "Python 3"
    }
  },
  "cells": [
    {
      "cell_type": "markdown",
      "metadata": {
        "id": "view-in-github",
        "colab_type": "text"
      },
      "source": [
        "<a href=\"https://colab.research.google.com/github/KadenAnderson/IST210/blob/master/group_assignment_2.ipynb\" target=\"_parent\"><img src=\"https://colab.research.google.com/assets/colab-badge.svg\" alt=\"Open In Colab\"/></a>"
      ]
    },
    {
      "cell_type": "markdown",
      "metadata": {
        "id": "UiTQs413lqGr"
      },
      "source": [
        "![ER](https://raw.githubusercontent.com/KadenAnderson/IST210/master/Group%20Assignment%202.png)"
      ]
    },
    {
      "cell_type": "markdown",
      "metadata": {
        "id": "kxjJxBMcmKLX"
      },
      "source": [
        "Our project is a representation of a car painting buisness database.  There are five entities, Website, Customer, Customer Car, Job Info, and Employee. Customer contains customer attributes such as name and contact information. The website holds a unique session ID for the customer's order. It also contains their selected paint color and vehicle VIN number. Job Info has a unique JobID and is initiated by the customer's session. Each JobID receives an assigned employee (Employee ID). Their name and salary is also included. A customer inputs their car information under their CustomerID. They input their VIN, make, model, year, and current color to identify the vehicle easily in the shop.\n",
        "\n",
        "This example shows one customer creating one job, for their one vehicle. For each job, one employee is assigned to work on each vehicle. If one customer was to have multiple cars in for work, more tables would be created. If multiple employees were to work on one car, more tables would be made for each employee as well as attributes.\n",
        "\n",
        "A customer creates an account (CustomerID) and starts a session on the website under that account. From there, a customer can create a work order (JobID). The website references the vehicle's VIN number and this is also associated with the customer.\n",
        "\n",
        "Each work order (JobID) is assigned an employee (EmployeeID) to work on it. One and only one employee works on each car."
      ]
    }
  ]
}