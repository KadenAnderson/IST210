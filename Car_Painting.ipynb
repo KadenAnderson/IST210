{
  "nbformat": 4,
  "nbformat_minor": 0,
  "metadata": {
    "colab": {
      "name": "Car Painting.ipynb",
      "provenance": [],
      "collapsed_sections": [],
      "include_colab_link": true
    },
    "kernelspec": {
      "name": "python3",
      "display_name": "Python 3"
    }
  },
  "cells": [
    {
      "cell_type": "markdown",
      "metadata": {
        "id": "view-in-github",
        "colab_type": "text"
      },
      "source": [
        "<a href=\"https://colab.research.google.com/github/KadenAnderson/IST210/blob/master/Car_Painting.ipynb\" target=\"_parent\"><img src=\"https://colab.research.google.com/assets/colab-badge.svg\" alt=\"Open In Colab\"/></a>"
      ]
    },
    {
      "cell_type": "markdown",
      "metadata": {
        "id": "2-qf37iN1pII"
      },
      "source": [
        "![car paitning ER](https://raw.githubusercontent.com/KadenAnderson/IST210/master/Group%20Assignment%202.png)\n"
      ]
    },
    {
      "cell_type": "code",
      "metadata": {
        "id": "ZPlZ2V7ifF4R",
        "colab": {
          "base_uri": "https://localhost:8080/",
          "height": 71
        },
        "outputId": "4991bbb6-5a1b-46af-b857-777ad08c347d"
      },
      "source": [
        "%load_ext sql\n",
        "%sql sqlite:///carPaintDatabase.db"
      ],
      "execution_count": 357,
      "outputs": [
        {
          "output_type": "stream",
          "text": [
            "The sql extension is already loaded. To reload it, use:\n",
            "  %reload_ext sql\n"
          ],
          "name": "stdout"
        },
        {
          "output_type": "execute_result",
          "data": {
            "application/vnd.google.colaboratory.intrinsic+json": {
              "type": "string"
            },
            "text/plain": [
              "'Connected: @carPaintDatabase.db'"
            ]
          },
          "metadata": {
            "tags": []
          },
          "execution_count": 357
        }
      ]
    },
    {
      "cell_type": "code",
      "metadata": {
        "id": "v2kT1UjBfKM4",
        "colab": {
          "base_uri": "https://localhost:8080/"
        },
        "outputId": "f1c99ed3-8953-4b27-e11c-2c3efd1cfb88"
      },
      "source": [
        "%%sql  \n",
        "DROP TABLE IF EXISTS Website;\n",
        "create table Website (SessionID text PRIMARY KEY, CustomerID text, VIN_NUM text, Selected_Color text);\n",
        "\n",
        "DROP table IF EXISTS Customer;\n",
        "create table Customer (CustomerID text PRIMARY KEY, FirstName text, LastName text, Email text, PhoneNumber text);\n",
        "\n",
        "DROP table IF EXISTS Job_Info;\n",
        "create table Job_Info (JobID text PRIMARY KEY, Session ID text, Color text, EmployeeID text);\n",
        "\n",
        "DROP table IF EXISTS Customer_Car;\n",
        "create table Customer_Car (VIN_NUM PRIMARY KEY, CustomerID text, Make text, Model text, Year text, Current_Color text);\n",
        "\n",
        "DROP table IF EXISTS Employee;\n",
        "create table Employee (EmployeeID text PRIMARY KEY, Salary integer, FirstName text, LastName text);"
      ],
      "execution_count": 358,
      "outputs": [
        {
          "output_type": "stream",
          "text": [
            " * sqlite:///carPaintDatabase.db\n",
            "Done.\n",
            "Done.\n",
            "Done.\n",
            "Done.\n",
            "Done.\n",
            "Done.\n",
            "Done.\n",
            "Done.\n",
            "Done.\n",
            "Done.\n"
          ],
          "name": "stdout"
        },
        {
          "output_type": "execute_result",
          "data": {
            "text/plain": [
              "[]"
            ]
          },
          "metadata": {
            "tags": []
          },
          "execution_count": 358
        }
      ]
    },
    {
      "cell_type": "markdown",
      "metadata": {
        "id": "0UkYaAo0DrOA"
      },
      "source": [
        ""
      ]
    },
    {
      "cell_type": "markdown",
      "metadata": {
        "id": "GheG85EG3Nq7"
      },
      "source": [
        "You need to know:\n",
        "\n",
        "\n",
        "*   Insert"
      ]
    },
    {
      "cell_type": "code",
      "metadata": {
        "id": "IzbwSjcifUOh",
        "colab": {
          "base_uri": "https://localhost:8080/"
        },
        "outputId": "ee83b41f-b327-4e3b-9b65-b377c2d777ed"
      },
      "source": [
        "%%sql\n",
        "insert into Website values ('43631', 'AASGH', 'JH4DA1745GS002661', 'Yellow');\n",
        "insert into Website values ('34672', 'ASGWB', '5NPEC4ABXDH539433', 'Black');\n",
        "insert into Website values ('21185', 'HDHRE', 'JT2BF22K6Y0283641', 'Bronze');\n",
        "insert into Website values ('23758', 'HASFS', '1G1JC1444PZ215071', 'Blue');\n",
        "insert into Website values ('99237', 'GJJSD', 'SAJGX2040XC042591', 'Silver');\n",
        "\n",
        "insert into Customer values ('AASGH', 'Joe', 'Mont', 'JoeM@gmail.com', '920-254-3707');\n",
        "insert into Customer values ('ASGWB', 'Bob', 'James', 'BobJ@gmail.com', '256-583-6609');\n",
        "insert into Customer values ('HDHRE', 'Shirley', 'Fisher', 'ShirleyF@gmail.com', '602-864-4772');\n",
        "insert into Customer values ('HASFS', 'Connie', 'Couple', 'ConnieC@gmail.com', '340-228-1001');\n",
        "insert into Customer values ('GJJSD', 'Seth', 'Roe', 'SethR@gmail.com', '609-642-2013');\n",
        "\n",
        "insert into Job_Info values ('FG150', '43631', 'Yellow', 'CelineRocha');\n",
        "insert into Job_Info values ('AD201', '34672', 'Black', 'TeddieCarpenter');\n",
        "insert into Job_Info values ('TQ631', '21185', 'Bronze', 'LucasMartin');\n",
        "insert into Job_Info values ('IL456', '23758', 'Blue', 'JeffVinson');\n",
        "insert into Job_Info values ('RE432', '99237', 'Silver', 'MarionBishop');\n",
        "\n",
        "insert into Customer_Car values ('JH4DA1745GS002661', 'AASGH', 'Acura', 'Integra', '1986', 'White');\n",
        "insert into Customer_Car values ('5NPEC4ABXDH539433', 'ASGWB', 'Hyundai', 'Sonata', '2013', 'Grey');\n",
        "insert into Customer_Car values ('JT2BF22K6Y0283641', 'HDHRE', 'Toyota', 'Camry', '2000', 'Green');\n",
        "insert into Customer_Car values ('1G1JC1444PZ215071', 'HASFS', 'Chevrolet', 'Corvair', '1993', 'Red');\n",
        "insert into Customer_Car values ('SAJGX2040XC042591', 'GJJSD', 'Jaguar', 'XK8', '1999', 'Yellow');\n",
        "\n",
        "insert into Employee values ('CelineRocha', '35000', 'Celine', 'Rocha');\n",
        "insert into Employee values ('TeddieCarpenter', '33000', 'Teddie', 'Carpenter');\n",
        "insert into Employee values ('LucasMartin', '37000', 'Lucas', 'Martin');\n",
        "insert into Employee values ('JeffVinson', '32000', 'Jeff', 'Vinson');\n",
        "insert into Employee values ('MarionBishop', '40000', 'Marion', 'Bishop');\n"
      ],
      "execution_count": 359,
      "outputs": [
        {
          "output_type": "stream",
          "text": [
            " * sqlite:///carPaintDatabase.db\n",
            "1 rows affected.\n",
            "1 rows affected.\n",
            "1 rows affected.\n",
            "1 rows affected.\n",
            "1 rows affected.\n",
            "1 rows affected.\n",
            "1 rows affected.\n",
            "1 rows affected.\n",
            "1 rows affected.\n",
            "1 rows affected.\n",
            "1 rows affected.\n",
            "1 rows affected.\n",
            "1 rows affected.\n",
            "1 rows affected.\n",
            "1 rows affected.\n",
            "1 rows affected.\n",
            "1 rows affected.\n",
            "1 rows affected.\n",
            "1 rows affected.\n",
            "1 rows affected.\n",
            "1 rows affected.\n",
            "1 rows affected.\n",
            "1 rows affected.\n",
            "1 rows affected.\n",
            "1 rows affected.\n"
          ],
          "name": "stdout"
        },
        {
          "output_type": "execute_result",
          "data": {
            "text/plain": [
              "[]"
            ]
          },
          "metadata": {
            "tags": []
          },
          "execution_count": 359
        }
      ]
    },
    {
      "cell_type": "markdown",
      "metadata": {
        "id": "m2YDTvZ96wV1"
      },
      "source": [
        "What are the top 3 salaries of employees?\n",
        "\n",
        "\n",
        "\n"
      ]
    },
    {
      "cell_type": "code",
      "metadata": {
        "id": "o95-Uk3Q6vU1",
        "colab": {
          "base_uri": "https://localhost:8080/",
          "height": 137
        },
        "outputId": "44332366-3e2e-47da-b3c0-922864a04fe3"
      },
      "source": [
        "%%sql\n",
        "select EmployeeID, Salary from Employee ORDER BY Salary DESC limit 3;"
      ],
      "execution_count": 360,
      "outputs": [
        {
          "output_type": "stream",
          "text": [
            " * sqlite:///carPaintDatabase.db\n",
            "Done.\n"
          ],
          "name": "stdout"
        },
        {
          "output_type": "execute_result",
          "data": {
            "text/html": [
              "<table>\n",
              "    <tr>\n",
              "        <th>EmployeeID</th>\n",
              "        <th>Salary</th>\n",
              "    </tr>\n",
              "    <tr>\n",
              "        <td>MarionBishop</td>\n",
              "        <td>40000</td>\n",
              "    </tr>\n",
              "    <tr>\n",
              "        <td>LucasMartin</td>\n",
              "        <td>37000</td>\n",
              "    </tr>\n",
              "    <tr>\n",
              "        <td>CelineRocha</td>\n",
              "        <td>35000</td>\n",
              "    </tr>\n",
              "</table>"
            ],
            "text/plain": [
              "[('MarionBishop', 40000), ('LucasMartin', 37000), ('CelineRocha', 35000)]"
            ]
          },
          "metadata": {
            "tags": []
          },
          "execution_count": 360
        }
      ]
    },
    {
      "cell_type": "markdown",
      "metadata": {
        "id": "R4Saum5aKNsr"
      },
      "source": [
        "This question is important to see the value of each employees time.  When assigning jobs you don't want to put a high paid employee on an easier job.  Likewise, you don't want to put a low paid employee on a harder job.  The results matched our expectations because the output was easy to understand and answered the question with only the top 3 paid employees rather than all 5 employees."
      ]
    },
    {
      "cell_type": "markdown",
      "metadata": {
        "id": "Fm21-puhPvDp"
      },
      "source": [
        "What are the customers choice of colors and their current colors?"
      ]
    },
    {
      "cell_type": "code",
      "metadata": {
        "id": "lb1G5Vj7652k",
        "colab": {
          "base_uri": "https://localhost:8080/",
          "height": 179
        },
        "outputId": "7b52f0a7-ea88-455f-ccfd-a5e116836e00"
      },
      "source": [
        "%%sql\n",
        "select Current_Color, Selected_Color from Customer_Car c, Website w WHERE c.VIN_NUM = w.VIN_NUM;"
      ],
      "execution_count": 361,
      "outputs": [
        {
          "output_type": "stream",
          "text": [
            " * sqlite:///carPaintDatabase.db\n",
            "Done.\n"
          ],
          "name": "stdout"
        },
        {
          "output_type": "execute_result",
          "data": {
            "text/html": [
              "<table>\n",
              "    <tr>\n",
              "        <th>Current_Color</th>\n",
              "        <th>Selected_Color</th>\n",
              "    </tr>\n",
              "    <tr>\n",
              "        <td>White</td>\n",
              "        <td>Yellow</td>\n",
              "    </tr>\n",
              "    <tr>\n",
              "        <td>Grey</td>\n",
              "        <td>Black</td>\n",
              "    </tr>\n",
              "    <tr>\n",
              "        <td>Green</td>\n",
              "        <td>Bronze</td>\n",
              "    </tr>\n",
              "    <tr>\n",
              "        <td>Red</td>\n",
              "        <td>Blue</td>\n",
              "    </tr>\n",
              "    <tr>\n",
              "        <td>Yellow</td>\n",
              "        <td>Silver</td>\n",
              "    </tr>\n",
              "</table>"
            ],
            "text/plain": [
              "[('White', 'Yellow'),\n",
              " ('Grey', 'Black'),\n",
              " ('Green', 'Bronze'),\n",
              " ('Red', 'Blue'),\n",
              " ('Yellow', 'Silver')]"
            ]
          },
          "metadata": {
            "tags": []
          },
          "execution_count": 361
        }
      ]
    },
    {
      "cell_type": "markdown",
      "metadata": {
        "id": "3q1snbApLZao"
      },
      "source": [
        "This question is important to quickly reference the current color of every car in the shop and what color it is supposed to be painted.  Based on the VIN Number it pairs each current color with the selected color.  These results matched our expectations because not every color was listed only pairings based on the database were listed."
      ]
    },
    {
      "cell_type": "markdown",
      "metadata": {
        "id": "uR2GDZ3vC1b6"
      },
      "source": [
        "\n",
        "\n",
        "How many cars need to be painted?"
      ]
    },
    {
      "cell_type": "code",
      "metadata": {
        "id": "XWeIN4zxC-no",
        "colab": {
          "base_uri": "https://localhost:8080/",
          "height": 95
        },
        "outputId": "919cd546-863c-4e3c-bfad-bdbad4b4a5e5"
      },
      "source": [
        "%%sql\n",
        "select Count(VIN_NUM) from Customer_Car;"
      ],
      "execution_count": 362,
      "outputs": [
        {
          "output_type": "stream",
          "text": [
            " * sqlite:///carPaintDatabase.db\n",
            "Done.\n"
          ],
          "name": "stdout"
        },
        {
          "output_type": "execute_result",
          "data": {
            "text/html": [
              "<table>\n",
              "    <tr>\n",
              "        <th>Count(VIN_NUM)</th>\n",
              "    </tr>\n",
              "    <tr>\n",
              "        <td>5</td>\n",
              "    </tr>\n",
              "</table>"
            ],
            "text/plain": [
              "[(5,)]"
            ]
          },
          "metadata": {
            "tags": []
          },
          "execution_count": 362
        }
      ]
    },
    {
      "cell_type": "markdown",
      "metadata": {
        "id": "Hq34G6njMioT"
      },
      "source": [
        "This question is important because it helps the employees have an idea of how many cars they need to paint.  This gives the employees a good idea of how much work they have.  The results matched our expectations because a unique identifier for each car was used, totaling to five cars."
      ]
    }
  ]
}