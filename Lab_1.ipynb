{
  "nbformat": 4,
  "nbformat_minor": 0,
  "metadata": {
    "colab": {
      "name": "Lab 1.ipynb",
      "provenance": [],
      "collapsed_sections": [],
      "authorship_tag": "ABX9TyPgHgTRWTCIdvI2oMXcFGuF",
      "include_colab_link": true
    },
    "kernelspec": {
      "name": "python3",
      "display_name": "Python 3"
    }
  },
  "cells": [
    {
      "cell_type": "markdown",
      "metadata": {
        "id": "view-in-github",
        "colab_type": "text"
      },
      "source": [
        "<a href=\"https://colab.research.google.com/github/KadenAnderson/IST210/blob/master/Lab_1.ipynb\" target=\"_parent\"><img src=\"https://colab.research.google.com/assets/colab-badge.svg\" alt=\"Open In Colab\"/></a>"
      ]
    },
    {
      "cell_type": "markdown",
      "metadata": {
        "id": "5rcVfl47fts7",
        "colab_type": "text"
      },
      "source": [
        "## Do you like using Jupyter Notebooks?"
      ]
    },
    {
      "cell_type": "markdown",
      "metadata": {
        "id": "3WCgiEwdf43V",
        "colab_type": "text"
      },
      "source": [
        "I haven't used Jupyter Notebooks before this class but it seems like I will like it.  It doesn't seem like it is a very difficult thing to use."
      ]
    },
    {
      "cell_type": "markdown",
      "metadata": {
        "id": "pSUdl8chgdaz",
        "colab_type": "text"
      },
      "source": [
        "## What do you want to learn more about in Jupyter Notebooks?"
      ]
    },
    {
      "cell_type": "markdown",
      "metadata": {
        "id": "5s0Fim_zgic_",
        "colab_type": "text"
      },
      "source": [
        "I want to learn all of the different features that Jupyter Notebooks contains.  Since this is my first time using this I can imagine that there are many features that you can use that the everyday normal person using Jupyter Notebooks might not use or not even know that are available to them."
      ]
    },
    {
      "cell_type": "markdown",
      "metadata": {
        "id": "ndmtd-UjgjXB",
        "colab_type": "text"
      },
      "source": [
        "![old main](https://raw.githubusercontent.com/KadenAnderson/IST210/master/Images/IMG_2558.JPG)"
      ]
    }
  ]
}